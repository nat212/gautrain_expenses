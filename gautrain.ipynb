{
 "cells": [
  {
   "cell_type": "code",
   "execution_count": 8,
   "metadata": {},
   "outputs": [],
   "source": [
    "import pandas as pd\n",
    "import numpy as np\n",
    "from enum import Enum\n",
    "from datetime import datetime"
   ]
  },
  {
   "cell_type": "code",
   "execution_count": 9,
   "metadata": {},
   "outputs": [],
   "source": [
    "class Site(str, Enum):\n",
    "  # Stations\n",
    "  sandton = \"Sandton\"\n",
    "  hatfield = \"Hatfield\"\n",
    "  rosebank = \"Rosebank\"\n",
    "  midrand = \"Midrand\"\n",
    "\n",
    "  # Parking\n",
    "  sandton_park = \"SandtonPark\"\n",
    "  hatfield_park = \"HatfieldPark\"\n",
    "  rosebank_park = \"RosebankPark\"\n",
    "\n",
    "  # Bus\n",
    "  bus_point = \"BusPoint\"\n"
   ]
  },
  {
   "cell_type": "code",
   "execution_count": 15,
   "metadata": {},
   "outputs": [],
   "source": [
    "csv_file = \"travel_history.csv\""
   ]
  },
  {
   "cell_type": "code",
   "execution_count": 16,
   "metadata": {},
   "outputs": [
    {
     "data": {
      "text/plain": [
       "0     Hatfield\n",
       "1     Hatfield\n",
       "2     Rosebank\n",
       "3     BusPoint\n",
       "4     Hatfield\n",
       "5      Sandton\n",
       "6      Sandton\n",
       "7     Hatfield\n",
       "8     Hatfield\n",
       "9     Hatfield\n",
       "10     Sandton\n",
       "11     Sandton\n",
       "12    Hatfield\n",
       "13    Hatfield\n",
       "Name: Site, dtype: object"
      ]
     },
     "execution_count": 16,
     "metadata": {},
     "output_type": "execute_result"
    }
   ],
   "source": [
    "df = pd.read_csv(csv_file, header=\"infer\", dtype={\n",
    "  \"Sequence Number\": np.int32,\n",
    "  \"Transaction Date\": \"datetime64\",\n",
    "  \"Site\": str,\n",
    "  \"Transaction Type\": str,\n",
    "  \"Remaining Trips\": np.int32,\n",
    "  \"Transaction Value\": \"float64\",\n",
    "  \"PAYG Balance\": np.float64,\n",
    "})\n",
    "\n",
    "df[\"Site\"]"
   ]
  },
  {
   "cell_type": "code",
   "execution_count": 17,
   "metadata": {},
   "outputs": [
    {
     "data": {
      "text/html": [
       "<div>\n",
       "<style scoped>\n",
       "    .dataframe tbody tr th:only-of-type {\n",
       "        vertical-align: middle;\n",
       "    }\n",
       "\n",
       "    .dataframe tbody tr th {\n",
       "        vertical-align: top;\n",
       "    }\n",
       "\n",
       "    .dataframe thead th {\n",
       "        text-align: right;\n",
       "    }\n",
       "</style>\n",
       "<table border=\"1\" class=\"dataframe\">\n",
       "  <thead>\n",
       "    <tr style=\"text-align: right;\">\n",
       "      <th></th>\n",
       "      <th>Sequence Number</th>\n",
       "      <th>Transaction Date</th>\n",
       "      <th>Site</th>\n",
       "      <th>Transaction Type</th>\n",
       "      <th>Remaining Trips</th>\n",
       "      <th>Transaction Value</th>\n",
       "      <th>PAYG Balance</th>\n",
       "    </tr>\n",
       "  </thead>\n",
       "  <tbody>\n",
       "    <tr>\n",
       "      <th>0</th>\n",
       "      <td>163</td>\n",
       "      <td>2023-11-13 18:13</td>\n",
       "      <td>Hatfield</td>\n",
       "      <td>CSC Fare Product checkout</td>\n",
       "      <td>0</td>\n",
       "      <td>-93.0</td>\n",
       "      <td>418.0</td>\n",
       "    </tr>\n",
       "    <tr>\n",
       "      <th>4</th>\n",
       "      <td>159</td>\n",
       "      <td>2023-11-09 18:52</td>\n",
       "      <td>Hatfield</td>\n",
       "      <td>CSC Fare Product checkout</td>\n",
       "      <td>0</td>\n",
       "      <td>-53.0</td>\n",
       "      <td>523.0</td>\n",
       "    </tr>\n",
       "    <tr>\n",
       "      <th>5</th>\n",
       "      <td>158</td>\n",
       "      <td>2023-11-09 18:12</td>\n",
       "      <td>Sandton</td>\n",
       "      <td>CSC Fare Product checkin</td>\n",
       "      <td>0</td>\n",
       "      <td>-34.0</td>\n",
       "      <td>576.0</td>\n",
       "    </tr>\n",
       "    <tr>\n",
       "      <th>6</th>\n",
       "      <td>157</td>\n",
       "      <td>2023-11-09 07:22</td>\n",
       "      <td>Sandton</td>\n",
       "      <td>CSC Fare Product checkout</td>\n",
       "      <td>0</td>\n",
       "      <td>-53.0</td>\n",
       "      <td>610.0</td>\n",
       "    </tr>\n",
       "    <tr>\n",
       "      <th>7</th>\n",
       "      <td>156</td>\n",
       "      <td>2023-11-09 06:43</td>\n",
       "      <td>Hatfield</td>\n",
       "      <td>CSC Fare Product checkin</td>\n",
       "      <td>0</td>\n",
       "      <td>-34.0</td>\n",
       "      <td>663.0</td>\n",
       "    </tr>\n",
       "    <tr>\n",
       "      <th>9</th>\n",
       "      <td>154</td>\n",
       "      <td>2023-10-26 15:33</td>\n",
       "      <td>Hatfield</td>\n",
       "      <td>CSC Fare Product checkout</td>\n",
       "      <td>0</td>\n",
       "      <td>-36.0</td>\n",
       "      <td>497.0</td>\n",
       "    </tr>\n",
       "    <tr>\n",
       "      <th>10</th>\n",
       "      <td>153</td>\n",
       "      <td>2023-10-26 14:49</td>\n",
       "      <td>Sandton</td>\n",
       "      <td>CSC Fare Product checkin</td>\n",
       "      <td>0</td>\n",
       "      <td>-34.0</td>\n",
       "      <td>533.0</td>\n",
       "    </tr>\n",
       "    <tr>\n",
       "      <th>11</th>\n",
       "      <td>152</td>\n",
       "      <td>2023-10-26 07:13</td>\n",
       "      <td>Sandton</td>\n",
       "      <td>CSC Fare Product checkout</td>\n",
       "      <td>0</td>\n",
       "      <td>-53.0</td>\n",
       "      <td>567.0</td>\n",
       "    </tr>\n",
       "    <tr>\n",
       "      <th>12</th>\n",
       "      <td>151</td>\n",
       "      <td>2023-10-26 06:26</td>\n",
       "      <td>Hatfield</td>\n",
       "      <td>CSC Fare Product checkin</td>\n",
       "      <td>0</td>\n",
       "      <td>-34.0</td>\n",
       "      <td>620.0</td>\n",
       "    </tr>\n",
       "  </tbody>\n",
       "</table>\n",
       "</div>"
      ],
      "text/plain": [
       "    Sequence Number  Transaction Date      Site           Transaction Type  \\\n",
       "0               163  2023-11-13 18:13  Hatfield  CSC Fare Product checkout   \n",
       "4               159  2023-11-09 18:52  Hatfield  CSC Fare Product checkout   \n",
       "5               158  2023-11-09 18:12   Sandton   CSC Fare Product checkin   \n",
       "6               157  2023-11-09 07:22   Sandton  CSC Fare Product checkout   \n",
       "7               156  2023-11-09 06:43  Hatfield   CSC Fare Product checkin   \n",
       "9               154  2023-10-26 15:33  Hatfield  CSC Fare Product checkout   \n",
       "10              153  2023-10-26 14:49   Sandton   CSC Fare Product checkin   \n",
       "11              152  2023-10-26 07:13   Sandton  CSC Fare Product checkout   \n",
       "12              151  2023-10-26 06:26  Hatfield   CSC Fare Product checkin   \n",
       "\n",
       "    Remaining Trips  Transaction Value  PAYG Balance  \n",
       "0                 0              -93.0         418.0  \n",
       "4                 0              -53.0         523.0  \n",
       "5                 0              -34.0         576.0  \n",
       "6                 0              -53.0         610.0  \n",
       "7                 0              -34.0         663.0  \n",
       "9                 0              -36.0         497.0  \n",
       "10                0              -34.0         533.0  \n",
       "11                0              -53.0         567.0  \n",
       "12                0              -34.0         620.0  "
      ]
     },
     "execution_count": 17,
     "metadata": {},
     "output_type": "execute_result"
    }
   ],
   "source": [
    "filtered_df = df[(df[\"Site\"] != \"BusPoint\") & (df[\"Site\"] != \"HatfieldPark\") & (df[\"Transaction Value\"] < 0)]\n",
    "filtered_df"
   ]
  },
  {
   "cell_type": "code",
   "execution_count": 18,
   "metadata": {},
   "outputs": [],
   "source": [
    "checkouts = df[df[\"Transaction Type\"] == \"CSC Fare Product checkout\"]\n",
    "checkouts\n",
    "num_trips = len(checkouts)"
   ]
  },
  {
   "cell_type": "code",
   "execution_count": 19,
   "metadata": {},
   "outputs": [
    {
     "data": {
      "text/plain": [
       "'R424.00 - 5 trips'"
      ]
     },
     "execution_count": 19,
     "metadata": {},
     "output_type": "execute_result"
    }
   ],
   "source": [
    "total = abs(sum(filtered_df[\"Transaction Value\"]))\n",
    "\"R{0:.2f} - {1} trips\".format(total, num_trips)"
   ]
  }
 ],
 "metadata": {
  "kernelspec": {
   "display_name": "gautrain_expenses-lrKIIA9g",
   "language": "python",
   "name": "python3"
  },
  "language_info": {
   "codemirror_mode": {
    "name": "ipython",
    "version": 3
   },
   "file_extension": ".py",
   "mimetype": "text/x-python",
   "name": "python",
   "nbconvert_exporter": "python",
   "pygments_lexer": "ipython3",
   "version": "3.10.13"
  }
 },
 "nbformat": 4,
 "nbformat_minor": 2
}
